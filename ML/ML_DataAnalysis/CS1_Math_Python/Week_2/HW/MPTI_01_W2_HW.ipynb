{
 "cells": [
  {
   "cell_type": "code",
   "execution_count": 3,
   "metadata": {
    "collapsed": true
   },
   "outputs": [],
   "source": [
    "import pandas as pd\n",
    "import numpy as np\n",
    "import math as math\n",
    "from matplotlib import pyplot as plt\n",
    "%matplotlib inline"
   ]
  },
  {
   "cell_type": "code",
   "execution_count": 8,
   "metadata": {},
   "outputs": [
    {
     "name": "stdout",
     "output_type": "stream",
     "text": [
      "5.0\n",
      "0.676676416183\n",
      "2.505416407\n"
     ]
    }
   ],
   "source": [
    "def f(x):\n",
    "    return (math.sin(x / 5) * math.exp(x / 10) + 5 * math.exp(-x / 2))"
   ]
  },
  {
   "cell_type": "code",
   "execution_count": 40,
   "metadata": {},
   "outputs": [
    {
     "data": {
      "image/png": "[encoded data removed]",
      "text/plain": [
       "<matplotlib.figure.Figure at 0xaa699e8>"
      ]
     },
     "metadata": {},
     "output_type": "display_data"
    }
   ],
   "source": [
    "x = np.arange(1, 15, 0.1)\n",
    "y = np.empty(x.size)\n",
    "y_app = np.empty(x.size)\n",
    "\n",
    "idx = 0\n",
    "for x1 in np.nditer(x):\n",
    "    y1 = f(x1)\n",
    "    y[idx] = y1\n",
    "    #y_app[idx] = 3.43914511 -0.18692825*x1\n",
    "    #y_app[idx] = 3.32512949 -0.06531159*x1 -0.00760104*x1**2\n",
    "    y_app[idx] = 4.36264154 -1.29552587*x1 +0.19333685*x1**2 -0.00823565*x1**3\n",
    "    idx += 1\n",
    "\n",
    "fig, ax = plt.subplots()\n",
    "ax.set_color_cycle(['blue', 'green'])\n",
    "\n",
    "plt.plot(x,y)\n",
    "plt.plot(x,y_app)\n",
    "plt.show()"
   ]
  },
  {
   "cell_type": "code",
   "execution_count": 20,
   "metadata": {
    "collapsed": true
   },
   "outputs": [],
   "source": [
    "from scipy import linalg"
   ]
  },
  {
   "cell_type": "code",
   "execution_count": 39,
   "metadata": {},
   "outputs": [
    {
     "name": "stdout",
     "output_type": "stream",
     "text": [
      "[ 4.36264154 -1.29552587  0.19333685 -0.00823565]\n"
     ]
    }
   ],
   "source": [
    "x_vector = np.array([1., 4., 10., 15.])\n",
    "n = x_vector.size\n",
    "A = np.empty([n, n])\n",
    "B = np.empty(n)\n",
    "\n",
    "idx = 0\n",
    "for x1 in np.nditer(x_vector):\n",
    "    y1 = f(x1)\n",
    "    B[idx] = y1\n",
    "    for i in range(n):\n",
    "        A[idx, i] = x1 ** i\n",
    "    idx += 1\n",
    "    \n",
    "X_sol = linalg.solve(A, B)\n",
    "# np.dot(A, X_sol) == B\n",
    "print X_sol"
   ]
  },
  {
   "cell_type": "code",
   "execution_count": null,
   "metadata": {
    "collapsed": true
   },
   "outputs": [],
   "source": []
  }
 ],
 "metadata": {
  "kernelspec": {
   "display_name": "Python 2",
   "language": "python",
   "name": "python2"
  },
  "language_info": {
   "codemirror_mode": {
    "name": "ipython",
    "version": 2
   },
   "file_extension": ".py",
   "mimetype": "text/x-python",
   "name": "python",
   "nbconvert_exporter": "python",
   "pygments_lexer": "ipython2",
   "version": "2.7.13"
  }
 },
 "nbformat": 4,
 "nbformat_minor": 2
}
