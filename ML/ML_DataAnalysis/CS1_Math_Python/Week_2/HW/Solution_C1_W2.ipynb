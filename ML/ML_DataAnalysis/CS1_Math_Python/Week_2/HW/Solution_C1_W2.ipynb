{
 "cells": [
  {
   "cell_type": "code",
   "execution_count": 3,
   "metadata": {},
   "outputs": [
    {
     "name": "stdout",
     "output_type": "stream",
     "text": [
      "22\n"
     ]
    }
   ],
   "source": [
    "file1 = open('sentences.txt', 'r')\n",
    "data_list = file1.readlines()\n",
    "file1.close()\n",
    "\n",
    "print len(data_list)"
   ]
  },
  {
   "cell_type": "code",
   "execution_count": 6,
   "metadata": {},
   "outputs": [
    {
     "name": "stdout",
     "output_type": "stream",
     "text": [
      "['in comparison to dogs, cats have not undergone major changes during the domestication process.\\n', 'as cat simply catenates streams of bytes, it can be also used to concatenate binary files, where it will just concatenate sequence of bytes.\\n', 'a common interactive use of cat for a single file is to output the content of a file to standard output.\\n', 'cats can hear sounds too faint or too high in frequency for human ears, such as those made by mice and other small animals.\\n', 'in one, people deliberately tamed cats in a process of artificial selection, as they were useful predators of vermin.\\n', 'the domesticated cat and its closest wild ancestor are both diploid organisms that possess 38 chromosomes and roughly 20,000 genes.\\n', 'domestic cats are similar in size to the other members of the genus felis, typically weighing between 4 and 5 kg (8.8 and 11.0 lb).\\n', 'however, if the output is piped or redirected, cat is unnecessary.\\n', 'cat with one named file is safer where human error is a concern - one wrong use of the default redirection symbol \">\" instead of \"<\" (often adjacent on keyboards) may permanently delete the file you were just needing to read.\\n', 'in terms of legibility, a sequence of commands starting with cat and connected by pipes has a clear left-to-right flow of information.\\n', 'cat command is one of the basic commands that you learned when you started in the unix / linux world.\\n', 'using cat command, the lines received from stdin can be redirected to a new file using redirection symbols.\\n', 'when you type simply cat command without any arguments, it just receives the stdin content and displays it in the stdout.\\n', 'leopard was released on october 26, 2007 as the successor of tiger (version 10.4), and is available in two editions.\\n', 'according to apple, leopard contains over 300 changes and enhancements over its predecessor, mac os x tiger.\\n', 'as of mid 2010, some apple computers have firmware factory installed which will no longer allow installation of mac os x leopard.\\n', 'since apple moved to using intel processors in their computers, the osx86 community has developed and now also allows mac os x tiger and later releases to be installed on non-apple x86-based computers.\\n', \"os x mountain lion was released on july 25, 2012 for purchase and download through apple's mac app store, as part of a switch to releasing os x versions online and every year.\\n\", 'apple has released a small patch for the three most recent versions of safari running on os x yosemite, mavericks, and mountain lion.\\n', 'the mountain lion release marks the second time apple has offered an incremental upgrade, rather than releasing a new cat entirely.\\n', \"mac os x mountain lion installs in place, so you won't need to create a separate disk or run the installation off an external drive.\\n\", \"the fifth major update to mac os x, leopard, contains such a mountain of features - more than 300 by apple's count.\\n\"]\n"
     ]
    }
   ],
   "source": [
    "for i in range(len(data_list)):\n",
    "    str1 = data_list[i].lower()\n",
    "    data_list[i] = str1\n",
    "    \n",
    "print (data_list)"
   ]
  },
  {
   "cell_type": "code",
   "execution_count": 7,
   "metadata": {
    "collapsed": true
   },
   "outputs": [],
   "source": [
    "import re"
   ]
  },
  {
   "cell_type": "code",
   "execution_count": 12,
   "metadata": {},
   "outputs": [
    {
     "name": "stdout",
     "output_type": "stream",
     "text": [
      "254\n"
     ]
    }
   ],
   "source": [
    "# Build full dictionary of All words\n",
    "w_all = dict()\n",
    "for i in range(len(data_list)):\n",
    "    sub_str = re.split('[^a-z]', data_list[i])\n",
    "    for wi in sub_str:\n",
    "        if (wi <> \"\"):\n",
    "            if not wi in w_all:\n",
    "                w_all[wi] = 1\n",
    "            else :\n",
    "                w_all[wi] = w_all[wi] + 1\n",
    "# print (w_all)\n",
    "print len(w_all)"
   ]
  },
  {
   "cell_type": "code",
   "execution_count": 13,
   "metadata": {
    "collapsed": true
   },
   "outputs": [],
   "source": [
    "import numpy as np"
   ]
  },
  {
   "cell_type": "code",
   "execution_count": 17,
   "metadata": {},
   "outputs": [
    {
     "name": "stdout",
     "output_type": "stream",
     "text": [
      "[[ 0.  0.  0. ...,  1.  0.  0.]\n",
      " [ 0.  0.  0. ...,  0.  0.  0.]\n",
      " [ 0.  0.  0. ...,  1.  0.  0.]\n",
      " ..., \n",
      " [ 0.  0.  0. ...,  2.  0.  0.]\n",
      " [ 0.  0.  0. ...,  1.  0.  0.]\n",
      " [ 0.  0.  0. ...,  1.  0.  0.]]\n"
     ]
    }
   ],
   "source": [
    "# Main matrix\n",
    "n = len(data_list)\n",
    "d = len(w_all)\n",
    "W = np.empty([n, d])\n",
    "\n",
    "word_idx = 0\n",
    "# Loop for all words\n",
    "for key in w_all:\n",
    "    # Loop for all sentences\n",
    "    for i in range(n):\n",
    "        word_count = 0\n",
    "        sub_str = re.split('[^a-z]', data_list[i])\n",
    "        for wi in sub_str:\n",
    "            if (wi == key):\n",
    "                word_count += 1\n",
    "        \n",
    "        W[i, word_idx] = word_count\n",
    "            \n",
    "    word_idx += 1\n",
    "    \n",
    "print (W)"
   ]
  },
  {
   "cell_type": "code",
   "execution_count": 18,
   "metadata": {
    "collapsed": true
   },
   "outputs": [],
   "source": [
    "from scipy.spatial.distance import cosine"
   ]
  },
  {
   "cell_type": "code",
   "execution_count": 24,
   "metadata": {},
   "outputs": [
    {
     "name": "stdout",
     "output_type": "stream",
     "text": [
      "[[ 0.        ]\n",
      " [ 0.95275444]\n",
      " [ 0.86447381]\n",
      " [ 0.89517152]\n",
      " [ 0.77708871]\n",
      " [ 0.94023857]\n",
      " [ 0.73273876]\n",
      " [ 0.92587507]\n",
      " [ 0.88427249]\n",
      " [ 0.90550888]\n",
      " [ 0.83281654]\n",
      " [ 0.88047714]\n",
      " [ 0.83964325]\n",
      " [ 0.87035926]\n",
      " [ 0.87401184]\n",
      " [ 0.94427218]\n",
      " [ 0.84063619]\n",
      " [ 0.9566445 ]\n",
      " [ 0.94427218]\n",
      " [ 0.88854436]\n",
      " [ 0.84275727]\n",
      " [ 0.82503645]]\n"
     ]
    }
   ],
   "source": [
    "n = len(data_list)\n",
    "m_dist = np.empty([n, 1])\n",
    "m_dist[0, 0] = 0.\n",
    "for i in range(n - 1):\n",
    "    dist_cos = cosine(W[0,:], W[i+1,:])\n",
    "    m_dist[i+1, 0] = dist_cos\n",
    "    \n",
    "print m_dist"
   ]
  },
  {
   "cell_type": "code",
   "execution_count": null,
   "metadata": {
    "collapsed": true
   },
   "outputs": [],
   "source": []
  }
 ],
 "metadata": {
  "kernelspec": {
   "display_name": "Python 2",
   "language": "python",
   "name": "python2"
  },
  "language_info": {
   "codemirror_mode": {
    "name": "ipython",
    "version": 2
   },
   "file_extension": ".py",
   "mimetype": "text/x-python",
   "name": "python",
   "nbconvert_exporter": "python",
   "pygments_lexer": "ipython2",
   "version": "2.7.13"
  }
 },
 "nbformat": 4,
 "nbformat_minor": 2
}
