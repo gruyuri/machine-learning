{
 "cells": [
  {
   "cell_type": "code",
   "execution_count": 21,
   "metadata": {},
   "outputs": [],
   "source": [
    "import numpy as np\n",
    "import pandas as pd\n",
    "\n",
    "import scipy\n",
    "from statsmodels.stats.weightstats import *\n",
    "from sklearn import cross_validation, linear_model, ensemble, metrics"
   ]
  },
  {
   "cell_type": "code",
   "execution_count": 2,
   "metadata": {},
   "outputs": [
    {
     "name": "stdout",
     "output_type": "stream",
     "text": [
      "2.21359436212\n"
     ]
    }
   ],
   "source": [
    "mu = 9.5\n",
    "sigma = 0.4\n",
    "n = 160\n",
    "x_hat = 9.57\n",
    "z_stat = (x_hat-mu) / (sigma/np.sqrt(n))\n",
    "print z_stat"
   ]
  },
  {
   "cell_type": "code",
   "execution_count": 31,
   "metadata": {},
   "outputs": [
    {
     "name": "stdout",
     "output_type": "stream",
     "text": [
      "0.0268566955075\n"
     ]
    }
   ],
   "source": [
    "p_value = scipy.stats.norm.cdf(-abs(z_stat))*2\n",
    "print p_value"
   ]
  },
  {
   "cell_type": "code",
   "execution_count": 32,
   "metadata": {},
   "outputs": [
    {
     "name": "stdout",
     "output_type": "stream",
     "text": [
      "0.0268566955075\n"
     ]
    }
   ],
   "source": [
    "z = (9.57 - 9.5) / (0.4 / np.sqrt(160))\n",
    "p = 2*(1-stats.norm.cdf(abs(z)))\n",
    "print p"
   ]
  },
  {
   "cell_type": "markdown",
   "metadata": {},
   "source": [
    "# Предсказание цены бриллианта"
   ]
  },
  {
   "cell_type": "code",
   "execution_count": 15,
   "metadata": {},
   "outputs": [
    {
     "data": {
      "text/html": [
       "<div>\n",
       "<style>\n",
       "    .dataframe thead tr:only-child th {\n",
       "        text-align: right;\n",
       "    }\n",
       "\n",
       "    .dataframe thead th {\n",
       "        text-align: left;\n",
       "    }\n",
       "\n",
       "    .dataframe tbody tr th {\n",
       "        vertical-align: top;\n",
       "    }\n",
       "</style>\n",
       "<table border=\"1\" class=\"dataframe\">\n",
       "  <thead>\n",
       "    <tr style=\"text-align: right;\">\n",
       "      <th></th>\n",
       "      <th>carat</th>\n",
       "      <th>depth</th>\n",
       "      <th>table</th>\n",
       "      <th>price</th>\n",
       "      <th>x</th>\n",
       "      <th>y</th>\n",
       "      <th>z</th>\n",
       "    </tr>\n",
       "  </thead>\n",
       "  <tbody>\n",
       "    <tr>\n",
       "      <th>0</th>\n",
       "      <td>0.23</td>\n",
       "      <td>61.5</td>\n",
       "      <td>55.0</td>\n",
       "      <td>326</td>\n",
       "      <td>3.95</td>\n",
       "      <td>3.98</td>\n",
       "      <td>2.43</td>\n",
       "    </tr>\n",
       "    <tr>\n",
       "      <th>1</th>\n",
       "      <td>0.21</td>\n",
       "      <td>59.8</td>\n",
       "      <td>61.0</td>\n",
       "      <td>326</td>\n",
       "      <td>3.89</td>\n",
       "      <td>3.84</td>\n",
       "      <td>2.31</td>\n",
       "    </tr>\n",
       "    <tr>\n",
       "      <th>2</th>\n",
       "      <td>0.23</td>\n",
       "      <td>56.9</td>\n",
       "      <td>65.0</td>\n",
       "      <td>327</td>\n",
       "      <td>4.05</td>\n",
       "      <td>4.07</td>\n",
       "      <td>2.31</td>\n",
       "    </tr>\n",
       "    <tr>\n",
       "      <th>3</th>\n",
       "      <td>0.29</td>\n",
       "      <td>62.4</td>\n",
       "      <td>58.0</td>\n",
       "      <td>334</td>\n",
       "      <td>4.20</td>\n",
       "      <td>4.23</td>\n",
       "      <td>2.63</td>\n",
       "    </tr>\n",
       "    <tr>\n",
       "      <th>4</th>\n",
       "      <td>0.31</td>\n",
       "      <td>63.3</td>\n",
       "      <td>58.0</td>\n",
       "      <td>335</td>\n",
       "      <td>4.34</td>\n",
       "      <td>4.35</td>\n",
       "      <td>2.75</td>\n",
       "    </tr>\n",
       "  </tbody>\n",
       "</table>\n",
       "</div>"
      ],
      "text/plain": [
       "   carat  depth  table  price     x     y     z\n",
       "0   0.23   61.5   55.0    326  3.95  3.98  2.43\n",
       "1   0.21   59.8   61.0    326  3.89  3.84  2.31\n",
       "2   0.23   56.9   65.0    327  4.05  4.07  2.31\n",
       "3   0.29   62.4   58.0    334  4.20  4.23  2.63\n",
       "4   0.31   63.3   58.0    335  4.34  4.35  2.75"
      ]
     },
     "execution_count": 15,
     "metadata": {},
     "output_type": "execute_result"
    }
   ],
   "source": [
    "data = pd.read_csv('diamonds.txt', sep = '\\t', header = 0)\n",
    "data.head(5)"
   ]
  },
  {
   "cell_type": "code",
   "execution_count": 17,
   "metadata": {},
   "outputs": [
    {
     "data": {
      "text/plain": [
       "(53940, 7)"
      ]
     },
     "execution_count": 17,
     "metadata": {},
     "output_type": "execute_result"
    }
   ],
   "source": [
    "data.shape"
   ]
  },
  {
   "cell_type": "code",
   "execution_count": 19,
   "metadata": {
    "collapsed": true
   },
   "outputs": [],
   "source": [
    "ds_all = data.drop('price', 1)\n",
    "ds_target = data.price"
   ]
  },
  {
   "cell_type": "code",
   "execution_count": 20,
   "metadata": {
    "collapsed": true
   },
   "outputs": [],
   "source": [
    "np.random.seed(1)\n",
    "train_data, test_data, train_labels, test_labels = cross_validation.train_test_split(ds_all, ds_target, test_size=0.25)"
   ]
  },
  {
   "cell_type": "code",
   "execution_count": 22,
   "metadata": {},
   "outputs": [
    {
     "name": "stdout",
     "output_type": "stream",
     "text": [
      "2714      214.422356\n",
      "14653    1016.460537\n",
      "52760      41.878717\n",
      "48658       7.165645\n",
      "14812    1113.152701\n",
      "37498     706.195885\n",
      "12456     974.126765\n",
      "16738     394.581497\n",
      "21542     124.909872\n",
      "40732     270.733881\n",
      "29855     100.667975\n",
      "44245     305.264158\n",
      "45337    1314.234163\n",
      "32171     493.323929\n",
      "38297     242.868125\n",
      "45810     637.110524\n",
      "7896      398.295447\n",
      "46466      68.195568\n",
      "26651    1996.073257\n",
      "21545    4167.051105\n",
      "13263     531.454867\n",
      "704       929.564338\n",
      "12469    1670.744260\n",
      "5825      890.286412\n",
      "44479     507.322926\n",
      "4218      679.365339\n",
      "5083      554.727924\n",
      "43189     123.216874\n",
      "13003     513.540234\n",
      "16692     349.855241\n",
      "            ...     \n",
      "5656       22.962535\n",
      "36814     678.521367\n",
      "12904     722.788004\n",
      "30175     415.285025\n",
      "30570     241.726337\n",
      "45797      88.180006\n",
      "2402      480.318374\n",
      "6976       87.157646\n",
      "7235       49.703161\n",
      "19644    1331.411746\n",
      "47880     420.844234\n",
      "823       770.920387\n",
      "14170     182.213151\n",
      "50587     751.608640\n",
      "11805     702.588791\n",
      "20674    3542.390708\n",
      "12651    1700.719550\n",
      "47911     348.295429\n",
      "17027    1227.847607\n",
      "20526     638.351345\n",
      "48175    1155.390162\n",
      "18999    1704.817883\n",
      "34658     696.782410\n",
      "23669    4848.476359\n",
      "37130     243.094245\n",
      "50310     898.690921\n",
      "39735      49.903573\n",
      "2915     2171.491803\n",
      "4960      103.828181\n",
      "42912     159.325297\n",
      "Name: price, Length: 13485, dtype: float64\n"
     ]
    }
   ],
   "source": [
    "lin_reg = linear_model.LinearRegression()\n",
    "lin_reg.fit(train_data, train_labels)\n",
    "lin_reg_predict = lin_reg.predict(test_data)\n",
    "x1 = np.abs(test_labels - lin_reg_predict)\n",
    "\n",
    "print x1"
   ]
  },
  {
   "cell_type": "code",
   "execution_count": 26,
   "metadata": {},
   "outputs": [
    {
     "name": "stdout",
     "output_type": "stream",
     "text": [
      "890.376400429\n"
     ]
    }
   ],
   "source": [
    "print metrics.mean_absolute_error(test_labels, lin_reg_predict)"
   ]
  },
  {
   "cell_type": "code",
   "execution_count": 24,
   "metadata": {},
   "outputs": [
    {
     "name": "stdout",
     "output_type": "stream",
     "text": [
      "2714      294.550000\n",
      "14653    1415.300000\n",
      "52760     506.500000\n",
      "48658      37.600000\n",
      "14812    2375.500000\n",
      "37498     232.000000\n",
      "12456    1382.000000\n",
      "16738     323.100000\n",
      "21542     535.300000\n",
      "40732     126.000000\n",
      "29855     141.375000\n",
      "44245      14.000000\n",
      "45337     619.300000\n",
      "32171     277.950000\n",
      "38297      92.450000\n",
      "45810     667.400000\n",
      "7896      433.700000\n",
      "46466      43.860000\n",
      "26651     932.000000\n",
      "21545    3934.300000\n",
      "13263     247.100000\n",
      "704       616.400000\n",
      "12469    1338.500000\n",
      "5825      837.100000\n",
      "44479     114.100000\n",
      "4218      508.700000\n",
      "5083      396.000000\n",
      "43189      21.600000\n",
      "13003    1893.800000\n",
      "16692     194.100000\n",
      "            ...     \n",
      "5656      209.900000\n",
      "36814     249.335000\n",
      "12904    1944.700000\n",
      "30175     431.900000\n",
      "30570       9.783333\n",
      "45797      22.700000\n",
      "2402      682.800000\n",
      "6976      358.200000\n",
      "7235      417.800000\n",
      "19644    2488.500000\n",
      "47880      18.200000\n",
      "823       935.250000\n",
      "14170     858.700000\n",
      "50587     553.600000\n",
      "11805    3811.700000\n",
      "20674    2793.100000\n",
      "12651    1827.200000\n",
      "47911      56.800000\n",
      "17027     809.000000\n",
      "20526    3156.100000\n",
      "48175     609.500000\n",
      "18999    4374.000000\n",
      "34658     194.700000\n",
      "23669    5093.400000\n",
      "37130     104.900000\n",
      "50310     101.600000\n",
      "39735      76.600000\n",
      "2915     1426.000000\n",
      "4960      298.700000\n",
      "42912     285.400000\n",
      "Name: price, Length: 13485, dtype: float64\n"
     ]
    }
   ],
   "source": [
    "rf = ensemble.RandomForestRegressor(random_state=1)\n",
    "rf.fit(train_data, train_labels)\n",
    "rf_predict = rf.predict(test_data)\n",
    "x2 = np.abs(test_labels - rf_predict)\n",
    "\n",
    "print x2"
   ]
  },
  {
   "cell_type": "code",
   "execution_count": null,
   "metadata": {
    "collapsed": true
   },
   "outputs": [],
   "source": [
    "x1 = test_labels != predict1 и test_labels != predict2 "
   ]
  },
  {
   "cell_type": "code",
   "execution_count": 27,
   "metadata": {},
   "outputs": [
    {
     "name": "stdout",
     "output_type": "stream",
     "text": [
      "804.702882475\n"
     ]
    }
   ],
   "source": [
    "print metrics.mean_absolute_error(test_labels, rf_predict)"
   ]
  },
  {
   "cell_type": "code",
   "execution_count": 28,
   "metadata": {},
   "outputs": [
    {
     "name": "stdout",
     "output_type": "stream",
     "text": [
      "Ttest_relResult(statistic=12.745056775181958, pvalue=5.4286548181852529e-37)\n"
     ]
    }
   ],
   "source": [
    "print stats.ttest_rel(x1, x2)"
   ]
  },
  {
   "cell_type": "code",
   "execution_count": 30,
   "metadata": {},
   "outputs": [
    {
     "name": "stdout",
     "output_type": "stream",
     "text": [
      "(72.497265650112325, 98.849770256266368)\n"
     ]
    }
   ],
   "source": [
    "print DescrStatsW(x1-x2).tconfint_mean()"
   ]
  },
  {
   "cell_type": "code",
   "execution_count": 63,
   "metadata": {
    "collapsed": true
   },
   "outputs": [],
   "source": [
    "def proportions_diff_z_test(z_stat, alternative = 'two-sided'):\n",
    "    if alternative not in ('two-sided', 'less', 'greater'):\n",
    "        raise ValueError(\"alternative not recognized\\n\"\n",
    "                         \"should be 'two-sided', 'less' or 'greater'\")\n",
    "    \n",
    "    if alternative == 'two-sided':\n",
    "        return 2 * (1 - scipy.stats.norm.cdf(np.abs(z_stat)))\n",
    "    \n",
    "    if alternative == 'less':\n",
    "        return scipy.stats.norm.cdf(z_stat)\n",
    "\n",
    "    if alternative == 'greater':\n",
    "        return 1 - scipy.stats.norm.cdf(z_stat)"
   ]
  },
  {
   "cell_type": "code",
   "execution_count": 64,
   "metadata": {
    "collapsed": true
   },
   "outputs": [],
   "source": [
    "def proportions_diff_confint_ind(sample1, sample2, alpha = 0.05):    \n",
    "    z = scipy.stats.norm.ppf(1 - alpha / 2.)\n",
    "    \n",
    "    p1 = float(sum(sample1)) / len(sample1)\n",
    "    p2 = float(sum(sample2)) / len(sample2)\n",
    "    \n",
    "    left_boundary = (p1 - p2) - z * np.sqrt(p1 * (1 - p1)/ len(sample1) + p2 * (1 - p2)/ len(sample2))\n",
    "    right_boundary = (p1 - p2) + z * np.sqrt(p1 * (1 - p1)/ len(sample1) + p2 * (1 - p2)/ len(sample2))\n",
    "    \n",
    "    return (left_boundary, right_boundary)"
   ]
  },
  {
   "cell_type": "code",
   "execution_count": 65,
   "metadata": {
    "collapsed": true
   },
   "outputs": [],
   "source": [
    "def proportions_diff_z_stat_ind(sample1, sample2):\n",
    "    n1 = len(sample1)\n",
    "    n2 = len(sample2)\n",
    "    \n",
    "    p1 = float(sum(sample1)) / n1\n",
    "    p2 = float(sum(sample2)) / n2 \n",
    "    P = float(p1*n1 + p2*n2) / (n1 + n2)\n",
    "    \n",
    "    return (p1 - p2) / np.sqrt(P * (1 - P) * (1. / n1 + 1. / n2))"
   ]
  },
  {
   "cell_type": "code",
   "execution_count": 72,
   "metadata": {},
   "outputs": [
    {
     "name": "stdout",
     "output_type": "stream",
     "text": [
      "95% confidence interval for a difference between proportions: [0.062533, 0.297467]\n"
     ]
    }
   ],
   "source": [
    "print \"95%% confidence interval for a difference between proportions: [%f, %f]\" %\\\n",
    "      proportions_diff_confint_ind(x1, x2)"
   ]
  },
  {
   "cell_type": "markdown",
   "metadata": {},
   "source": [
    "# Задача 3 - зевота"
   ]
  },
  {
   "cell_type": "code",
   "execution_count": 34,
   "metadata": {},
   "outputs": [
    {
     "name": "stdout",
     "output_type": "stream",
     "text": [
      "7.74421643104e-06\n"
     ]
    }
   ],
   "source": [
    "z = scipy.stats.norm.ppf(1-0.05/2)\n",
    "f = 24\n",
    "g = 4\n",
    "n = 50\n",
    "#_left = float(f - g) / n  - z * np.sqrt(float((f + g)) / n**2 - float((f - g)**2) / n**3)\n",
    "#_right = float(f - g) / n  + z * np.sqrt(float((f + g)) / n**2 - float((f - g)**2) / n**3)\n",
    "z_score = float(f - g) / np.sqrt(float(f+g) - (f-g)**2/n)\n",
    "print scipy.stats.norm.cdf(-abs(z_score))*2"
   ]
  },
  {
   "cell_type": "code",
   "execution_count": 35,
   "metadata": {},
   "outputs": [
    {
     "name": "stdout",
     "output_type": "stream",
     "text": [
      "0.74586091745\n"
     ]
    }
   ],
   "source": [
    "p1 = 10./34\n",
    "p2 = 4./16\n",
    "p = float(p1*34+p2*16)/50\n",
    "z_score = float(p1-p2)/np.sqrt(p*(1-p)*(1./34+1./16))\n",
    "print scipy.stats.norm.cdf(-abs(z_score))*2"
   ]
  },
  {
   "cell_type": "code",
   "execution_count": 83,
   "metadata": {},
   "outputs": [
    {
     "data": {
      "text/plain": [
       "0.37293045872523534"
      ]
     },
     "execution_count": 83,
     "metadata": {},
     "output_type": "execute_result"
    }
   ],
   "source": [
    "proportions_diff_z_test(proportions_diff_z_stat_ind([1]*4 + [0]*12, [1]*10 + [0]*24), 'less')"
   ]
  },
  {
   "cell_type": "markdown",
   "metadata": {},
   "source": [
    "# Задача про банкноты"
   ]
  },
  {
   "cell_type": "code",
   "execution_count": 36,
   "metadata": {},
   "outputs": [
    {
     "data": {
      "text/html": [
       "<div>\n",
       "<style>\n",
       "    .dataframe thead tr:only-child th {\n",
       "        text-align: right;\n",
       "    }\n",
       "\n",
       "    .dataframe thead th {\n",
       "        text-align: left;\n",
       "    }\n",
       "\n",
       "    .dataframe tbody tr th {\n",
       "        vertical-align: top;\n",
       "    }\n",
       "</style>\n",
       "<table border=\"1\" class=\"dataframe\">\n",
       "  <thead>\n",
       "    <tr style=\"text-align: right;\">\n",
       "      <th></th>\n",
       "      <th>X1</th>\n",
       "      <th>X2</th>\n",
       "      <th>X3</th>\n",
       "      <th>X4</th>\n",
       "      <th>X5</th>\n",
       "      <th>X6</th>\n",
       "      <th>real</th>\n",
       "    </tr>\n",
       "  </thead>\n",
       "  <tbody>\n",
       "    <tr>\n",
       "      <th>0</th>\n",
       "      <td>214.8</td>\n",
       "      <td>131.0</td>\n",
       "      <td>131.1</td>\n",
       "      <td>9.0</td>\n",
       "      <td>9.7</td>\n",
       "      <td>141.0</td>\n",
       "      <td>1</td>\n",
       "    </tr>\n",
       "    <tr>\n",
       "      <th>1</th>\n",
       "      <td>214.6</td>\n",
       "      <td>129.7</td>\n",
       "      <td>129.7</td>\n",
       "      <td>8.1</td>\n",
       "      <td>9.5</td>\n",
       "      <td>141.7</td>\n",
       "      <td>1</td>\n",
       "    </tr>\n",
       "    <tr>\n",
       "      <th>2</th>\n",
       "      <td>214.8</td>\n",
       "      <td>129.7</td>\n",
       "      <td>129.7</td>\n",
       "      <td>8.7</td>\n",
       "      <td>9.6</td>\n",
       "      <td>142.2</td>\n",
       "      <td>1</td>\n",
       "    </tr>\n",
       "    <tr>\n",
       "      <th>3</th>\n",
       "      <td>214.8</td>\n",
       "      <td>129.7</td>\n",
       "      <td>129.6</td>\n",
       "      <td>7.5</td>\n",
       "      <td>10.4</td>\n",
       "      <td>142.0</td>\n",
       "      <td>1</td>\n",
       "    </tr>\n",
       "    <tr>\n",
       "      <th>4</th>\n",
       "      <td>215.0</td>\n",
       "      <td>129.6</td>\n",
       "      <td>129.7</td>\n",
       "      <td>10.4</td>\n",
       "      <td>7.7</td>\n",
       "      <td>141.8</td>\n",
       "      <td>1</td>\n",
       "    </tr>\n",
       "  </tbody>\n",
       "</table>\n",
       "</div>"
      ],
      "text/plain": [
       "      X1     X2     X3    X4    X5     X6  real\n",
       "0  214.8  131.0  131.1   9.0   9.7  141.0     1\n",
       "1  214.6  129.7  129.7   8.1   9.5  141.7     1\n",
       "2  214.8  129.7  129.7   8.7   9.6  142.2     1\n",
       "3  214.8  129.7  129.6   7.5  10.4  142.0     1\n",
       "4  215.0  129.6  129.7  10.4   7.7  141.8     1"
      ]
     },
     "execution_count": 36,
     "metadata": {},
     "output_type": "execute_result"
    }
   ],
   "source": [
    "data2 = pd.read_csv('banknotes.txt', sep = '\\t', header = 0)\n",
    "data2.head(5)"
   ]
  },
  {
   "cell_type": "code",
   "execution_count": 41,
   "metadata": {},
   "outputs": [],
   "source": [
    "data2.columns = ['X1', 'X2', 'X3', 'X4', 'X5', 'X6', 'real']"
   ]
  },
  {
   "cell_type": "code",
   "execution_count": 43,
   "metadata": {},
   "outputs": [],
   "source": [
    "ds2_all = data2.drop('real', 1)\n",
    "ds2_target = data2.real"
   ]
  },
  {
   "cell_type": "code",
   "execution_count": 44,
   "metadata": {},
   "outputs": [],
   "source": [
    "np.random.seed(1)\n",
    "train_data, test_data, train_labels, test_labels = cross_validation.train_test_split(ds2_all, ds2_target, test_size=50)"
   ]
  },
  {
   "cell_type": "code",
   "execution_count": 67,
   "metadata": {},
   "outputs": [],
   "source": [
    "columns = ['X4', 'X5', 'X6']\n",
    "train_data_X1 = train_data.drop(columns, axis=1)\n",
    "test_data_X1 = test_data.drop(columns, axis=1)\n",
    "\n",
    "columns = ['X1', 'X2', 'X3']\n",
    "train_data_X4 = train_data.drop(columns, axis=1)\n",
    "test_data_X4 = test_data.drop(columns, axis=1)\n"
   ]
  },
  {
   "cell_type": "code",
   "execution_count": 68,
   "metadata": {},
   "outputs": [],
   "source": [
    "log_x1 = linear_model.LogisticRegression()\n",
    "log_x1.fit(train_data_X1, train_labels)\n",
    "x1_predict = log_x1.predict(test_data_X1)\n",
    "x1 = np.abs(test_labels - x1_predict)\n",
    "\n",
    "log_x2 = linear_model.LogisticRegression()\n",
    "log_x2.fit(train_data_X4, train_labels)\n",
    "x2_predict = log_x2.predict(test_data_X4)\n",
    "x2 = np.abs(test_labels - x2_predict)\n"
   ]
  },
  {
   "cell_type": "code",
   "execution_count": 76,
   "metadata": {},
   "outputs": [
    {
     "data": {
      "text/plain": [
       "0.80000000000000004"
      ]
     },
     "execution_count": 76,
     "metadata": {},
     "output_type": "execute_result"
    }
   ],
   "source": [
    "metrics.accuracy_score(test_labels, x1_predict)"
   ]
  },
  {
   "cell_type": "code",
   "execution_count": 77,
   "metadata": {},
   "outputs": [
    {
     "data": {
      "text/plain": [
       "0.97999999999999998"
      ]
     },
     "execution_count": 77,
     "metadata": {},
     "output_type": "execute_result"
    }
   ],
   "source": [
    "metrics.accuracy_score(test_labels, x2_predict)"
   ]
  },
  {
   "cell_type": "code",
   "execution_count": 73,
   "metadata": {
    "collapsed": true
   },
   "outputs": [],
   "source": [
    "x1 = test_labels != x1_predict\n",
    "x2 = test_labels != x2_predict"
   ]
  },
  {
   "cell_type": "code",
   "execution_count": 81,
   "metadata": {},
   "outputs": [
    {
     "name": "stdout",
     "output_type": "stream",
     "text": [
      "(0.059945206279614305, 0.30005479372038568)\n"
     ]
    }
   ],
   "source": [
    "print proportions_diff_confint_rel(x1, x2)"
   ]
  },
  {
   "cell_type": "code",
   "execution_count": 51,
   "metadata": {},
   "outputs": [
    {
     "name": "stdout",
     "output_type": "stream",
     "text": [
      "10\n"
     ]
    }
   ],
   "source": [
    "print np.sum(x1)"
   ]
  },
  {
   "cell_type": "code",
   "execution_count": 74,
   "metadata": {},
   "outputs": [
    {
     "name": "stdout",
     "output_type": "stream",
     "text": [
      "0.22\n"
     ]
    },
    {
     "name": "stderr",
     "output_type": "stream",
     "text": [
      "C:\\Users\\gruyuri\\Anaconda2\\lib\\site-packages\\pandas\\core\\computation\\expressions.py:183: UserWarning: evaluating in Python space because the '-' operator is not supported by numexpr for the bool dtype, use '^' instead\n",
      "  unsupported[op_str]))\n"
     ]
    }
   ],
   "source": [
    "print np.mean(x1-x2)"
   ]
  },
  {
   "cell_type": "code",
   "execution_count": 70,
   "metadata": {},
   "outputs": [
    {
     "name": "stdout",
     "output_type": "stream",
     "text": [
      "Ttest_indResult(statistic=2.973153822552955, pvalue=0.0037097805947425258)\n"
     ]
    }
   ],
   "source": [
    "print stats.ttest_ind(x1, x2)"
   ]
  },
  {
   "cell_type": "code",
   "execution_count": 75,
   "metadata": {},
   "outputs": [
    {
     "name": "stdout",
     "output_type": "stream",
     "text": [
      "(0.10107726963127962, 0.33892273036872039)\n"
     ]
    }
   ],
   "source": [
    "print DescrStatsW(x1-x2).tconfint_mean()"
   ]
  },
  {
   "cell_type": "code",
   "execution_count": 54,
   "metadata": {},
   "outputs": [
    {
     "name": "stdout",
     "output_type": "stream",
     "text": [
      "(0.055656626175543789, 0.3043433738244562)\n"
     ]
    }
   ],
   "source": [
    "print DescrStatsW(x1-x2).tconfint_mean()"
   ]
  },
  {
   "cell_type": "markdown",
   "metadata": {},
   "source": [
    "# Задача про студентов - средний балл на экзамене"
   ]
  },
  {
   "cell_type": "code",
   "execution_count": 55,
   "metadata": {},
   "outputs": [
    {
     "name": "stdout",
     "output_type": "stream",
     "text": [
      "1.64\n"
     ]
    }
   ],
   "source": [
    "mu = 525.\n",
    "sigma = 100.\n",
    "n = 100\n",
    "x_hat = 541.4\n",
    "z_stat = (x_hat-mu) / (sigma/np.sqrt(n))\n",
    "print z_stat"
   ]
  },
  {
   "cell_type": "code",
   "execution_count": 56,
   "metadata": {},
   "outputs": [
    {
     "name": "stdout",
     "output_type": "stream",
     "text": [
      "0.0505025834741\n"
     ]
    }
   ],
   "source": [
    "p = (1-stats.norm.cdf(abs(z_stat)))\n",
    "print p"
   ]
  },
  {
   "cell_type": "code",
   "execution_count": 57,
   "metadata": {},
   "outputs": [
    {
     "name": "stdout",
     "output_type": "stream",
     "text": [
      "1.65\n"
     ]
    }
   ],
   "source": [
    "mu = 525.\n",
    "sigma = 100.\n",
    "n = 100\n",
    "x_hat = 541.5\n",
    "z_stat = (x_hat-mu) / (sigma/np.sqrt(n))\n",
    "print z_stat"
   ]
  },
  {
   "cell_type": "code",
   "execution_count": 58,
   "metadata": {},
   "outputs": [
    {
     "name": "stdout",
     "output_type": "stream",
     "text": [
      "0.0494714680336\n"
     ]
    }
   ],
   "source": [
    "p = (1-stats.norm.cdf(abs(z_stat)))\n",
    "print p"
   ]
  },
  {
   "cell_type": "code",
   "execution_count": 79,
   "metadata": {
    "collapsed": true
   },
   "outputs": [],
   "source": [
    "def proportions_diff_confint_rel(sample1, sample2, alpha = 0.05):\n",
    "    z = scipy.stats.norm.ppf(1 - alpha / 2.)\n",
    "    sample = zip(sample1, sample2)\n",
    "    n = len(sample)\n",
    "        \n",
    "    f = sum([1 if (x[0] == 1 and x[1] == 0) else 0 for x in sample])\n",
    "    g = sum([1 if (x[0] == 0 and x[1] == 1) else 0 for x in sample])\n",
    "    \n",
    "    left_boundary = float(f - g) / n  - z * np.sqrt(float((f + g)) / n**2 - float((f - g)**2) / n**3)\n",
    "    right_boundary = float(f - g) / n  + z * np.sqrt(float((f + g)) / n**2 - float((f - g)**2) / n**3)\n",
    "    return (left_boundary, right_boundary)"
   ]
  },
  {
   "cell_type": "code",
   "execution_count": null,
   "metadata": {
    "collapsed": true
   },
   "outputs": [],
   "source": []
  }
 ],
 "metadata": {
  "kernelspec": {
   "display_name": "Python 2",
   "language": "python",
   "name": "python2"
  },
  "language_info": {
   "codemirror_mode": {
    "name": "ipython",
    "version": 2
   },
   "file_extension": ".py",
   "mimetype": "text/x-python",
   "name": "python",
   "nbconvert_exporter": "python",
   "pygments_lexer": "ipython2",
   "version": "2.7.13"
  }
 },
 "nbformat": 4,
 "nbformat_minor": 2
}
