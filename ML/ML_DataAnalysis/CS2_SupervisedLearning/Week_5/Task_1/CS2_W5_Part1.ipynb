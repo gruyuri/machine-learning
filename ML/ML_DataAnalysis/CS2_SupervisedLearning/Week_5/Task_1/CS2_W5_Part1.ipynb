{
 "cells": [
  {
   "cell_type": "code",
   "execution_count": 10,
   "metadata": {},
   "outputs": [],
   "source": [
    "from sklearn import cross_validation, datasets, naive_bayes\n",
    "import numpy as np\n",
    "import pandas as pd"
   ]
  },
  {
   "cell_type": "code",
   "execution_count": 9,
   "metadata": {},
   "outputs": [],
   "source": [
    "bc = datasets.load_breast_cancer()\n",
    "ds = datasets.load_digits()\n",
    "X_bc = bc.data\n",
    "Y_bc = bc.target\n",
    "\n",
    "X = ds.data\n",
    "Y = ds.target"
   ]
  },
  {
   "cell_type": "code",
   "execution_count": 14,
   "metadata": {},
   "outputs": [
    {
     "data": {
      "text/plain": [
       "array([[  0.,   0.,   5., ...,   0.,   0.,   0.],\n",
       "       [  0.,   0.,   0., ...,  10.,   0.,   0.],\n",
       "       [  0.,   0.,   0., ...,  16.,   9.,   0.],\n",
       "       ..., \n",
       "       [  0.,   0.,   1., ...,   6.,   0.,   0.],\n",
       "       [  0.,   0.,   2., ...,  12.,   0.,   0.],\n",
       "       [  0.,   0.,  10., ...,  12.,   1.,   0.]])"
      ]
     },
     "execution_count": 14,
     "metadata": {},
     "output_type": "execute_result"
    }
   ],
   "source": [
    "X"
   ]
  },
  {
   "cell_type": "code",
   "execution_count": 15,
   "metadata": {},
   "outputs": [
    {
     "data": {
      "text/plain": [
       "array([[  1.79900000e+01,   1.03800000e+01,   1.22800000e+02, ...,\n",
       "          2.65400000e-01,   4.60100000e-01,   1.18900000e-01],\n",
       "       [  2.05700000e+01,   1.77700000e+01,   1.32900000e+02, ...,\n",
       "          1.86000000e-01,   2.75000000e-01,   8.90200000e-02],\n",
       "       [  1.96900000e+01,   2.12500000e+01,   1.30000000e+02, ...,\n",
       "          2.43000000e-01,   3.61300000e-01,   8.75800000e-02],\n",
       "       ..., \n",
       "       [  1.66000000e+01,   2.80800000e+01,   1.08300000e+02, ...,\n",
       "          1.41800000e-01,   2.21800000e-01,   7.82000000e-02],\n",
       "       [  2.06000000e+01,   2.93300000e+01,   1.40100000e+02, ...,\n",
       "          2.65000000e-01,   4.08700000e-01,   1.24000000e-01],\n",
       "       [  7.76000000e+00,   2.45400000e+01,   4.79200000e+01, ...,\n",
       "          0.00000000e+00,   2.87100000e-01,   7.03900000e-02]])"
      ]
     },
     "execution_count": 15,
     "metadata": {},
     "output_type": "execute_result"
    }
   ],
   "source": [
    "X_bc"
   ]
  },
  {
   "cell_type": "code",
   "execution_count": 11,
   "metadata": {},
   "outputs": [
    {
     "name": "stdout",
     "output_type": "stream",
     "text": [
      "0.936749280609\n",
      "0.627420402859\n",
      "0.894579040193\n"
     ]
    }
   ],
   "source": [
    "clf1 = naive_bayes.GaussianNB() \n",
    "clf1.fit(bc.data, bc.target) \n",
    "score1 = cross_validation.cross_val_score(clf1, bc.data, bc.target).mean()\n",
    "\n",
    "clf2 = naive_bayes.BernoulliNB() \n",
    "clf2.fit(bc.data, bc.target) \n",
    "score2 = cross_validation.cross_val_score(clf2, bc.data, bc.target).mean()\n",
    "\n",
    "clf3 = naive_bayes.MultinomialNB() \n",
    "clf3.fit(bc.data, bc.target) \n",
    "score3 = cross_validation.cross_val_score(clf3, bc.data, bc.target).mean()\n",
    "\n",
    "print score1\n",
    "print score2\n",
    "print score3"
   ]
  },
  {
   "cell_type": "code",
   "execution_count": 12,
   "metadata": {},
   "outputs": [
    {
     "name": "stdout",
     "output_type": "stream",
     "text": [
      "0.818600380355\n",
      "0.825823650778\n",
      "0.870877148974\n"
     ]
    }
   ],
   "source": [
    "clf1 = naive_bayes.GaussianNB() \n",
    "clf1.fit(ds.data, ds.target) \n",
    "score1 = cross_validation.cross_val_score(clf1, ds.data, ds.target).mean()\n",
    "\n",
    "clf2 = naive_bayes.BernoulliNB() \n",
    "clf2.fit(ds.data, ds.target) \n",
    "score2 = cross_validation.cross_val_score(clf2, ds.data, ds.target).mean()\n",
    "\n",
    "clf3 = naive_bayes.MultinomialNB() \n",
    "clf3.fit(ds.data, ds.target) \n",
    "score3 = cross_validation.cross_val_score(clf3, ds.data, ds.target).mean()\n",
    "\n",
    "print score1\n",
    "print score2\n",
    "print score3"
   ]
  },
  {
   "cell_type": "code",
   "execution_count": null,
   "metadata": {
    "collapsed": true
   },
   "outputs": [],
   "source": []
  }
 ],
 "metadata": {
  "kernelspec": {
   "display_name": "Python 2",
   "language": "python",
   "name": "python2"
  },
  "language_info": {
   "codemirror_mode": {
    "name": "ipython",
    "version": 2
   },
   "file_extension": ".py",
   "mimetype": "text/x-python",
   "name": "python",
   "nbconvert_exporter": "python",
   "pygments_lexer": "ipython2",
   "version": "2.7.13"
  }
 },
 "nbformat": 4,
 "nbformat_minor": 2
}
