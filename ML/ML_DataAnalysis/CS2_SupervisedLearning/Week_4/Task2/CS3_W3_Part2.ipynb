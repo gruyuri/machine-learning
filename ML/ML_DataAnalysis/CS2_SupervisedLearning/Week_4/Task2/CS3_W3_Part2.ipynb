{
 "cells": [
  {
   "cell_type": "code",
   "execution_count": 1,
   "metadata": {},
   "outputs": [
    {
     "name": "stderr",
     "output_type": "stream",
     "text": [
      "C:\\Users\\gruyuri\\Anaconda2\\lib\\site-packages\\sklearn\\cross_validation.py:44: DeprecationWarning: This module was deprecated in version 0.18 in favor of the model_selection module into which all the refactored classes and functions are moved. Also note that the interface of the new CV iterators are different from that of this module. This module will be removed in 0.20.\n",
      "  \"This module will be removed in 0.20.\", DeprecationWarning)\n"
     ]
    }
   ],
   "source": [
    "from sklearn import cross_validation, datasets, metrics, tree\n",
    "def s_vect(Y, Z):\n",
    "    return (Y-Z)\n",
    "\n",
    "data = datasets.load_boston()\n",
    "X_train = data.data[0:379,:]\n",
    "X_test = data.data[379:len(data.data),:]\n",
    "Y_train = data.target[0:379]\n",
    "Y_test = data.target[379:len(data.target)]"
   ]
  },
  {
   "cell_type": "code",
   "execution_count": 4,
   "metadata": {},
   "outputs": [
    {
     "data": {
      "text/plain": [
       "(379L,)"
      ]
     },
     "execution_count": 4,
     "metadata": {},
     "output_type": "execute_result"
    }
   ],
   "source": [
    "Y_train.shape"
   ]
  },
  {
   "cell_type": "code",
   "execution_count": 10,
   "metadata": {},
   "outputs": [
    {
     "name": "stdout",
     "output_type": "stream",
     "text": [
      "4.81089328026\n"
     ]
    }
   ],
   "source": [
    "#####################\n",
    "# Версия задания 2\n",
    "base_algorithms_list = []\n",
    "coefficients_list = []\n",
    "for i in range(50):\n",
    "    coefficients_list.append(0.9 / (1.0 + i))\n",
    "    #coefficients_list.append(0.9)\n",
    "s = Y_train\n",
    "def gbm_predict(X):\n",
    "    return [sum([coeff * algo.predict([x])[0] for algo, coeff in zip(base_algorithms_list, coefficients_list)]) for x in X]\n",
    "\n",
    "for i in range(50):\n",
    "    model = DecisionTreeRegressor(max_depth = 5, random_state = 42)\n",
    "    model.fit(X_train, s)\n",
    "    base_algorithms_list.append(model)\n",
    "    pred = gbm_predict(X_train)\n",
    "    s = Y_train - pred\n",
    "error=mean_squared_error(Y_test,gbm_predict(X_test))\n",
    "rmse=error**0.5\n",
    "print (rmse)"
   ]
  },
  {
   "cell_type": "code",
   "execution_count": 12,
   "metadata": {},
   "outputs": [
    {
     "name": "stdout",
     "output_type": "stream",
     "text": [
      "8.27046803494\n"
     ]
    }
   ],
   "source": [
    "#Для задания 5:\n",
    "from sklearn import linear_model, metrics\n",
    "\n",
    "model = linear_model.LinearRegression()\n",
    "model.fit(X_train, Y_train)\n",
    "test_pred = model.predict(X_test)\n",
    "result = metrics.mean_squared_error(Y_test, test_pred) ** .5\n",
    "print result"
   ]
  },
  {
   "cell_type": "code",
   "execution_count": null,
   "metadata": {
    "collapsed": true
   },
   "outputs": [],
   "source": []
  }
 ],
 "metadata": {
  "kernelspec": {
   "display_name": "Python 2",
   "language": "python",
   "name": "python2"
  },
  "language_info": {
   "codemirror_mode": {
    "name": "ipython",
    "version": 2
   },
   "file_extension": ".py",
   "mimetype": "text/x-python",
   "name": "python",
   "nbconvert_exporter": "python",
   "pygments_lexer": "ipython2",
   "version": "2.7.13"
  }
 },
 "nbformat": 4,
 "nbformat_minor": 2
}
