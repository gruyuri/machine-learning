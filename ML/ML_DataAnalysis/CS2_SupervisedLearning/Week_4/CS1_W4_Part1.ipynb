{
 "cells": [
  {
   "cell_type": "code",
   "execution_count": 1,
   "metadata": {},
   "outputs": [
    {
     "name": "stderr",
     "output_type": "stream",
     "text": [
      "C:\\Users\\gruyuri\\Anaconda2\\lib\\site-packages\\sklearn\\cross_validation.py:44: DeprecationWarning: This module was deprecated in version 0.18 in favor of the model_selection module into which all the refactored classes and functions are moved. Also note that the interface of the new CV iterators are different from that of this module. This module will be removed in 0.20.\n",
      "  \"This module will be removed in 0.20.\", DeprecationWarning)\n"
     ]
    }
   ],
   "source": [
    "from sklearn import cross_validation, datasets, metrics, tree, ensemble\n",
    "import numpy as np\n",
    "import pandas as pd"
   ]
  },
  {
   "cell_type": "code",
   "execution_count": 2,
   "metadata": {
    "collapsed": true
   },
   "outputs": [],
   "source": [
    "ds = datasets.load_digits()\n",
    "X = ds.data\n",
    "y = ds.target"
   ]
  },
  {
   "cell_type": "code",
   "execution_count": 3,
   "metadata": {},
   "outputs": [
    {
     "name": "stdout",
     "output_type": "stream",
     "text": [
      "0.83086244395\n"
     ]
    }
   ],
   "source": [
    "estimator = tree.DecisionTreeClassifier(random_state = 1)\n",
    "tree_quality = cross_validation.cross_val_score(estimator, X, y, cv = 10)\n",
    "mean_quality = tree_quality.mean()\n",
    "print mean_quality"
   ]
  },
  {
   "cell_type": "code",
   "execution_count": 4,
   "metadata": {},
   "outputs": [
    {
     "name": "stdout",
     "output_type": "stream",
     "text": [
      "0.92711025726\n"
     ]
    }
   ],
   "source": [
    "estimator = ensemble.BaggingClassifier(random_state = 1, n_estimators = 100)\n",
    "tree_quality = cross_validation.cross_val_score(estimator, X, y, cv = 10)\n",
    "mean_quality = tree_quality.mean()\n",
    "print mean_quality"
   ]
  },
  {
   "cell_type": "code",
   "execution_count": 9,
   "metadata": {},
   "outputs": [
    {
     "name": "stdout",
     "output_type": "stream",
     "text": [
      "8.0\n"
     ]
    }
   ],
   "source": [
    "X.shape[1]\n",
    "print X.shape[1] ** 0.5"
   ]
  },
  {
   "cell_type": "code",
   "execution_count": 10,
   "metadata": {},
   "outputs": [
    {
     "name": "stdout",
     "output_type": "stream",
     "text": [
      "0.933810128908\n"
     ]
    }
   ],
   "source": [
    "# Уточнить число признаков\n",
    "d = X.shape[1] ** 0.5\n",
    "d = 8L\n",
    "estimator = ensemble.BaggingClassifier(random_state = 1, n_estimators = 100, max_features = d)\n",
    "tree_quality = cross_validation.cross_val_score(estimator, X, y, cv = 10)\n",
    "mean_quality = tree_quality.mean()\n",
    "print mean_quality"
   ]
  },
  {
   "cell_type": "code",
   "execution_count": 11,
   "metadata": {},
   "outputs": [
    {
     "name": "stdout",
     "output_type": "stream",
     "text": [
      "0.950034963602\n"
     ]
    }
   ],
   "source": [
    "base_tree = tree.DecisionTreeClassifier(random_state = 1, max_features = d)\n",
    "estimator = ensemble.BaggingClassifier(base_estimator = base_tree, random_state = 1, n_estimators = 100)\n",
    "tree_quality = cross_validation.cross_val_score(estimator, X, y, cv = 10)\n",
    "mean_quality = tree_quality.mean()\n",
    "print mean_quality"
   ]
  },
  {
   "cell_type": "code",
   "execution_count": 12,
   "metadata": {},
   "outputs": [
    {
     "name": "stdout",
     "output_type": "stream",
     "text": [
      "0.957213001227\n"
     ]
    }
   ],
   "source": [
    "estimator = ensemble.RandomForestClassifier(random_state = 1, n_estimators = 100, max_features = d)\n",
    "tree_quality = cross_validation.cross_val_score(estimator, X, y, cv = 10)\n",
    "mean_quality = tree_quality.mean()\n",
    "print mean_quality"
   ]
  },
  {
   "cell_type": "code",
   "execution_count": 13,
   "metadata": {},
   "outputs": [
    {
     "name": "stdout",
     "output_type": "stream",
     "text": [
      "0.890475724517\n"
     ]
    }
   ],
   "source": [
    "estimator = ensemble.RandomForestClassifier(random_state = 1, n_estimators = 5, max_features = d)\n",
    "tree_quality = cross_validation.cross_val_score(estimator, X, y, cv = 10)\n",
    "mean_quality = tree_quality.mean()\n",
    "print mean_quality"
   ]
  },
  {
   "cell_type": "code",
   "execution_count": 14,
   "metadata": {},
   "outputs": [
    {
     "name": "stdout",
     "output_type": "stream",
     "text": [
      "0.923849822568\n"
     ]
    }
   ],
   "source": [
    "estimator = ensemble.RandomForestClassifier(random_state = 1, n_estimators = 10, max_features = d)\n",
    "tree_quality = cross_validation.cross_val_score(estimator, X, y, cv = 10)\n",
    "mean_quality = tree_quality.mean()\n",
    "print mean_quality"
   ]
  },
  {
   "cell_type": "code",
   "execution_count": 15,
   "metadata": {},
   "outputs": [
    {
     "name": "stdout",
     "output_type": "stream",
     "text": [
      "0.825683842986\n"
     ]
    }
   ],
   "source": [
    "estimator = ensemble.RandomForestClassifier(random_state = 1, n_estimators = 5, max_features = d, max_depth = 5)\n",
    "tree_quality = cross_validation.cross_val_score(estimator, X, y, cv = 10)\n",
    "mean_quality = tree_quality.mean()\n",
    "print mean_quality"
   ]
  },
  {
   "cell_type": "code",
   "execution_count": 16,
   "metadata": {},
   "outputs": [
    {
     "name": "stdout",
     "output_type": "stream",
     "text": [
      "0.894905829208\n"
     ]
    }
   ],
   "source": [
    "estimator = ensemble.RandomForestClassifier(random_state = 1, n_estimators = 5, max_features = d, max_depth = 10)\n",
    "tree_quality = cross_validation.cross_val_score(estimator, X, y, cv = 10)\n",
    "mean_quality = tree_quality.mean()\n",
    "print mean_quality"
   ]
  },
  {
   "cell_type": "code",
   "execution_count": null,
   "metadata": {
    "collapsed": true
   },
   "outputs": [],
   "source": []
  }
 ],
 "metadata": {
  "kernelspec": {
   "display_name": "Python 2",
   "language": "python",
   "name": "python2"
  },
  "language_info": {
   "codemirror_mode": {
    "name": "ipython",
    "version": 2
   },
   "file_extension": ".py",
   "mimetype": "text/x-python",
   "name": "python",
   "nbconvert_exporter": "python",
   "pygments_lexer": "ipython2",
   "version": "2.7.13"
  }
 },
 "nbformat": 4,
 "nbformat_minor": 2
}
